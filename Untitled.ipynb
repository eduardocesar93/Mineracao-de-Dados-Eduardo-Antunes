{
 "cells": [
  {
   "cell_type": "code",
   "execution_count": 19,
   "metadata": {
    "collapsed": false
   },
   "outputs": [
    {
     "name": "stderr",
     "output_type": "stream",
     "text": [
      "/usr/local/lib/python3.4/dist-packages/matplotlib/backends/backend_gtk3agg.py:18: UserWarning: The Gtk3Agg backend is known to not work on Python 3.x with pycairo. Try installing cairocffi.\n",
      "  \"The Gtk3Agg backend is known to not work on Python 3.x with pycairo. \"\n"
     ]
    }
   ],
   "source": [
    "import os\n",
    "import sys\n",
    "import time\n",
    "import datetime\n",
    "import numpy as np\n",
    "import pandas as pd\n",
    "import matplotlib.pyplot as plt\n",
    "%matplotlib inline"
   ]
  },
  {
   "cell_type": "code",
   "execution_count": 2,
   "metadata": {
    "collapsed": true
   },
   "outputs": [],
   "source": [
    "datapath = \"/home/tutunes/Documents/FGV/MMD/datasets/\""
   ]
  },
  {
   "cell_type": "code",
   "execution_count": 10,
   "metadata": {
    "collapsed": true
   },
   "outputs": [],
   "source": [
    "csvfile = \"gun_crime_data.csv\"\n",
    "datafile = os.path.join(datapath, csvfile)"
   ]
  },
  {
   "cell_type": "code",
   "execution_count": 12,
   "metadata": {
    "collapsed": false
   },
   "outputs": [
    {
     "data": {
      "text/html": [
       "<div>\n",
       "<table border=\"1\" class=\"dataframe\">\n",
       "  <thead>\n",
       "    <tr style=\"text-align: right;\">\n",
       "      <th></th>\n",
       "      <th>year</th>\n",
       "      <th>pop</th>\n",
       "      <th>ampct</th>\n",
       "      <th>metpct</th>\n",
       "      <th>unrate</th>\n",
       "      <th>prison</th>\n",
       "      <th>totemployed</th>\n",
       "      <th>employ</th>\n",
       "      <th>military</th>\n",
       "      <th>rpci</th>\n",
       "      <th>...</th>\n",
       "      <th>mc_noburg</th>\n",
       "      <th>gunsamm</th>\n",
       "      <th>amrmms</th>\n",
       "      <th>amhms</th>\n",
       "      <th>phg</th>\n",
       "      <th>pgun</th>\n",
       "      <th>mc_noassault</th>\n",
       "      <th>r1524</th>\n",
       "      <th>r2544</th>\n",
       "      <th>r4564</th>\n",
       "    </tr>\n",
       "  </thead>\n",
       "  <tbody>\n",
       "    <tr>\n",
       "      <th>0</th>\n",
       "      <td>2013.0</td>\n",
       "      <td>316500.0</td>\n",
       "      <td>0.129</td>\n",
       "      <td>0.81</td>\n",
       "      <td>7.4</td>\n",
       "      <td>4077.436</td>\n",
       "      <td>136394.0</td>\n",
       "      <td>0.430945</td>\n",
       "      <td>4.739336</td>\n",
       "      <td>30518.0</td>\n",
       "      <td>...</td>\n",
       "      <td>1290.995</td>\n",
       "      <td>420577.0</td>\n",
       "      <td>2200000.0</td>\n",
       "      <td>925238.0</td>\n",
       "      <td>23.91000</td>\n",
       "      <td>29.14000</td>\n",
       "      <td>977.5071</td>\n",
       "      <td>12.16</td>\n",
       "      <td>20.0</td>\n",
       "      <td>26.76</td>\n",
       "    </tr>\n",
       "    <tr>\n",
       "      <th>1</th>\n",
       "      <td>2012.0</td>\n",
       "      <td>314110.0</td>\n",
       "      <td>0.128</td>\n",
       "      <td>0.81</td>\n",
       "      <td>8.1</td>\n",
       "      <td>4065.240</td>\n",
       "      <td>134098.0</td>\n",
       "      <td>0.426914</td>\n",
       "      <td>4.937761</td>\n",
       "      <td>29161.0</td>\n",
       "      <td>...</td>\n",
       "      <td>1371.663</td>\n",
       "      <td>392122.0</td>\n",
       "      <td>1900000.0</td>\n",
       "      <td>915060.0</td>\n",
       "      <td>22.75591</td>\n",
       "      <td>33.77953</td>\n",
       "      <td>1100.7190</td>\n",
       "      <td>12.16</td>\n",
       "      <td>20.0</td>\n",
       "      <td>26.76</td>\n",
       "    </tr>\n",
       "    <tr>\n",
       "      <th>2</th>\n",
       "      <td>2011.0</td>\n",
       "      <td>311720.0</td>\n",
       "      <td>0.127</td>\n",
       "      <td>0.81</td>\n",
       "      <td>8.9</td>\n",
       "      <td>4139.755</td>\n",
       "      <td>131843.0</td>\n",
       "      <td>0.422953</td>\n",
       "      <td>5.078275</td>\n",
       "      <td>29005.0</td>\n",
       "      <td>...</td>\n",
       "      <td>1400.010</td>\n",
       "      <td>378380.0</td>\n",
       "      <td>1700000.0</td>\n",
       "      <td>1000000.0</td>\n",
       "      <td>21.18000</td>\n",
       "      <td>33.89000</td>\n",
       "      <td>1138.5090</td>\n",
       "      <td>12.16</td>\n",
       "      <td>20.0</td>\n",
       "      <td>26.76</td>\n",
       "    </tr>\n",
       "    <tr>\n",
       "      <th>3</th>\n",
       "      <td>2010.0</td>\n",
       "      <td>310232.8</td>\n",
       "      <td>0.127</td>\n",
       "      <td>0.81</td>\n",
       "      <td>9.6</td>\n",
       "      <td>4177.352</td>\n",
       "      <td>130269.0</td>\n",
       "      <td>0.419907</td>\n",
       "      <td>5.163864</td>\n",
       "      <td>28838.0</td>\n",
       "      <td>...</td>\n",
       "      <td>1475.788</td>\n",
       "      <td>404150.0</td>\n",
       "      <td>1800000.0</td>\n",
       "      <td>1100000.0</td>\n",
       "      <td>19.54211</td>\n",
       "      <td>31.39820</td>\n",
       "      <td>1162.0530</td>\n",
       "      <td>12.16</td>\n",
       "      <td>20.0</td>\n",
       "      <td>26.76</td>\n",
       "    </tr>\n",
       "    <tr>\n",
       "      <th>4</th>\n",
       "      <td>2009.0</td>\n",
       "      <td>307006.5</td>\n",
       "      <td>0.126</td>\n",
       "      <td>0.81</td>\n",
       "      <td>9.3</td>\n",
       "      <td>4232.373</td>\n",
       "      <td>131220.0</td>\n",
       "      <td>0.427418</td>\n",
       "      <td>5.182301</td>\n",
       "      <td>29274.0</td>\n",
       "      <td>...</td>\n",
       "      <td>1569.885</td>\n",
       "      <td>414150.0</td>\n",
       "      <td>1800000.0</td>\n",
       "      <td>954901.0</td>\n",
       "      <td>20.78000</td>\n",
       "      <td>39.66000</td>\n",
       "      <td>1249.1490</td>\n",
       "      <td>12.40</td>\n",
       "      <td>22.0</td>\n",
       "      <td>26.20</td>\n",
       "    </tr>\n",
       "  </tbody>\n",
       "</table>\n",
       "<p>5 rows × 33 columns</p>\n",
       "</div>"
      ],
      "text/plain": [
       "     year       pop  ampct  metpct  unrate    prison  totemployed    employ  \\\n",
       "0  2013.0  316500.0  0.129    0.81     7.4  4077.436     136394.0  0.430945   \n",
       "1  2012.0  314110.0  0.128    0.81     8.1  4065.240     134098.0  0.426914   \n",
       "2  2011.0  311720.0  0.127    0.81     8.9  4139.755     131843.0  0.422953   \n",
       "3  2010.0  310232.8  0.127    0.81     9.6  4177.352     130269.0  0.419907   \n",
       "4  2009.0  307006.5  0.126    0.81     9.3  4232.373     131220.0  0.427418   \n",
       "\n",
       "   military     rpci  ...    mc_noburg   gunsamm     amrmms      amhms  \\\n",
       "0  4.739336  30518.0  ...     1290.995  420577.0  2200000.0   925238.0   \n",
       "1  4.937761  29161.0  ...     1371.663  392122.0  1900000.0   915060.0   \n",
       "2  5.078275  29005.0  ...     1400.010  378380.0  1700000.0  1000000.0   \n",
       "3  5.163864  28838.0  ...     1475.788  404150.0  1800000.0  1100000.0   \n",
       "4  5.182301  29274.0  ...     1569.885  414150.0  1800000.0   954901.0   \n",
       "\n",
       "        phg      pgun  mc_noassault  r1524  r2544  r4564  \n",
       "0  23.91000  29.14000      977.5071  12.16   20.0  26.76  \n",
       "1  22.75591  33.77953     1100.7190  12.16   20.0  26.76  \n",
       "2  21.18000  33.89000     1138.5090  12.16   20.0  26.76  \n",
       "3  19.54211  31.39820     1162.0530  12.16   20.0  26.76  \n",
       "4  20.78000  39.66000     1249.1490  12.40   22.0  26.20  \n",
       "\n",
       "[5 rows x 33 columns]"
      ]
     },
     "execution_count": 12,
     "metadata": {},
     "output_type": "execute_result"
    }
   ],
   "source": [
    "df_csv = pd.read_csv(datafile)\n",
    "df_csv.head()"
   ]
  },
  {
   "cell_type": "code",
   "execution_count": 16,
   "metadata": {
    "collapsed": false
   },
   "outputs": [
    {
     "data": {
      "text/plain": [
       "0     27.10269\n",
       "1     28.86250\n",
       "2     28.78224\n",
       "3     30.25470\n",
       "4     33.70287\n",
       "5     33.41932\n",
       "6     35.66220\n",
       "7     35.72084\n",
       "8     38.07906\n",
       "9     35.98074\n",
       "10    34.77187\n",
       "11    39.92028\n",
       "12    42.47237\n",
       "13    42.19643\n",
       "14    42.78472\n",
       "15    49.20665\n",
       "16    53.08764\n",
       "17    55.44651\n",
       "18    68.83096\n",
       "19    71.26037\n",
       "20    82.06527\n",
       "21    81.37092\n",
       "22    78.41268\n",
       "23    77.34656\n",
       "24    72.58385\n",
       "25    68.63098\n",
       "26    68.98402\n",
       "27    71.26379\n",
       "28    69.77409\n",
       "29    72.46838\n",
       "30    77.26592\n",
       "31    79.89986\n",
       "32    80.41714\n",
       "33    70.73525\n",
       "34         NaN\n",
       "Name: murder, dtype: float64"
      ]
     },
     "execution_count": 16,
     "metadata": {},
     "output_type": "execute_result"
    }
   ],
   "source": [
    "df_csv.murder"
   ]
  },
  {
   "cell_type": "code",
   "execution_count": 17,
   "metadata": {
    "collapsed": true
   },
   "outputs": [],
   "source": [
    "y = df_csv.murder"
   ]
  },
  {
   "cell_type": "code",
   "execution_count": 24,
   "metadata": {
    "collapsed": false
   },
   "outputs": [
    {
     "ename": "IndexError",
     "evalue": "invalid index to scalar variable.",
     "output_type": "error",
     "traceback": [
      "\u001b[1;31m---------------------------------------------------------------------------\u001b[0m",
      "\u001b[1;31mIndexError\u001b[0m                                Traceback (most recent call last)",
      "\u001b[1;32m<ipython-input-24-328bbbe99932>\u001b[0m in \u001b[0;36m<module>\u001b[1;34m()\u001b[0m\n\u001b[1;32m----> 1\u001b[1;33m \u001b[0my\u001b[0m\u001b[1;33m[\u001b[0m\u001b[1;36m0\u001b[0m\u001b[1;33m]\u001b[0m\u001b[1;33m[\u001b[0m\u001b[1;36m1\u001b[0m\u001b[1;33m]\u001b[0m\u001b[1;33m\u001b[0m\u001b[0m\n\u001b[0m",
      "\u001b[1;31mIndexError\u001b[0m: invalid index to scalar variable."
     ]
    }
   ],
   "source": [
    "y"
   ]
  },
  {
   "cell_type": "code",
   "execution_count": 27,
   "metadata": {
    "collapsed": false
   },
   "outputs": [
    {
     "ename": "ValueError",
     "evalue": "max must be larger than min in range parameter.",
     "output_type": "error",
     "traceback": [
      "\u001b[1;31m---------------------------------------------------------------------------\u001b[0m",
      "\u001b[1;31mValueError\u001b[0m                                Traceback (most recent call last)",
      "\u001b[1;32m<ipython-input-27-98eb89bcf194>\u001b[0m in \u001b[0;36m<module>\u001b[1;34m()\u001b[0m\n\u001b[0;32m      1\u001b[0m \u001b[0mnbins\u001b[0m \u001b[1;33m=\u001b[0m \u001b[1;36m1\u001b[0m\u001b[1;33m\u001b[0m\u001b[0m\n\u001b[1;32m----> 2\u001b[1;33m \u001b[0mplt\u001b[0m\u001b[1;33m.\u001b[0m\u001b[0mhist\u001b[0m\u001b[1;33m(\u001b[0m\u001b[0my\u001b[0m\u001b[1;33m,\u001b[0m \u001b[0mbins\u001b[0m\u001b[1;33m=\u001b[0m\u001b[0mnbins\u001b[0m\u001b[1;33m,\u001b[0m \u001b[0mnormed\u001b[0m\u001b[1;33m=\u001b[0m\u001b[1;32mTrue\u001b[0m\u001b[1;33m)\u001b[0m\u001b[1;33m\u001b[0m\u001b[0m\n\u001b[0m\u001b[0;32m      3\u001b[0m \u001b[0mplt\u001b[0m\u001b[1;33m.\u001b[0m\u001b[0mshow\u001b[0m\u001b[1;33m(\u001b[0m\u001b[1;33m)\u001b[0m\u001b[1;33m\u001b[0m\u001b[0m\n",
      "\u001b[1;32m/usr/local/lib/python3.4/dist-packages/matplotlib/pyplot.py\u001b[0m in \u001b[0;36mhist\u001b[1;34m(x, bins, range, normed, weights, cumulative, bottom, histtype, align, orientation, rwidth, log, color, label, stacked, hold, data, **kwargs)\u001b[0m\n\u001b[0;32m   2956\u001b[0m                       \u001b[0mhisttype\u001b[0m\u001b[1;33m=\u001b[0m\u001b[0mhisttype\u001b[0m\u001b[1;33m,\u001b[0m \u001b[0malign\u001b[0m\u001b[1;33m=\u001b[0m\u001b[0malign\u001b[0m\u001b[1;33m,\u001b[0m \u001b[0morientation\u001b[0m\u001b[1;33m=\u001b[0m\u001b[0morientation\u001b[0m\u001b[1;33m,\u001b[0m\u001b[1;33m\u001b[0m\u001b[0m\n\u001b[0;32m   2957\u001b[0m                       \u001b[0mrwidth\u001b[0m\u001b[1;33m=\u001b[0m\u001b[0mrwidth\u001b[0m\u001b[1;33m,\u001b[0m \u001b[0mlog\u001b[0m\u001b[1;33m=\u001b[0m\u001b[0mlog\u001b[0m\u001b[1;33m,\u001b[0m \u001b[0mcolor\u001b[0m\u001b[1;33m=\u001b[0m\u001b[0mcolor\u001b[0m\u001b[1;33m,\u001b[0m \u001b[0mlabel\u001b[0m\u001b[1;33m=\u001b[0m\u001b[0mlabel\u001b[0m\u001b[1;33m,\u001b[0m\u001b[1;33m\u001b[0m\u001b[0m\n\u001b[1;32m-> 2958\u001b[1;33m                       stacked=stacked, data=data, **kwargs)\n\u001b[0m\u001b[0;32m   2959\u001b[0m     \u001b[1;32mfinally\u001b[0m\u001b[1;33m:\u001b[0m\u001b[1;33m\u001b[0m\u001b[0m\n\u001b[0;32m   2960\u001b[0m         \u001b[0max\u001b[0m\u001b[1;33m.\u001b[0m\u001b[0mhold\u001b[0m\u001b[1;33m(\u001b[0m\u001b[0mwashold\u001b[0m\u001b[1;33m)\u001b[0m\u001b[1;33m\u001b[0m\u001b[0m\n",
      "\u001b[1;32m/usr/local/lib/python3.4/dist-packages/matplotlib/__init__.py\u001b[0m in \u001b[0;36minner\u001b[1;34m(ax, *args, **kwargs)\u001b[0m\n\u001b[0;32m   1810\u001b[0m                     warnings.warn(msg % (label_namer, func.__name__),\n\u001b[0;32m   1811\u001b[0m                                   RuntimeWarning, stacklevel=2)\n\u001b[1;32m-> 1812\u001b[1;33m             \u001b[1;32mreturn\u001b[0m \u001b[0mfunc\u001b[0m\u001b[1;33m(\u001b[0m\u001b[0max\u001b[0m\u001b[1;33m,\u001b[0m \u001b[1;33m*\u001b[0m\u001b[0margs\u001b[0m\u001b[1;33m,\u001b[0m \u001b[1;33m**\u001b[0m\u001b[0mkwargs\u001b[0m\u001b[1;33m)\u001b[0m\u001b[1;33m\u001b[0m\u001b[0m\n\u001b[0m\u001b[0;32m   1813\u001b[0m         \u001b[0mpre_doc\u001b[0m \u001b[1;33m=\u001b[0m \u001b[0minner\u001b[0m\u001b[1;33m.\u001b[0m\u001b[0m__doc__\u001b[0m\u001b[1;33m\u001b[0m\u001b[0m\n\u001b[0;32m   1814\u001b[0m         \u001b[1;32mif\u001b[0m \u001b[0mpre_doc\u001b[0m \u001b[1;32mis\u001b[0m \u001b[1;32mNone\u001b[0m\u001b[1;33m:\u001b[0m\u001b[1;33m\u001b[0m\u001b[0m\n",
      "\u001b[1;32m/usr/local/lib/python3.4/dist-packages/matplotlib/axes/_axes.py\u001b[0m in \u001b[0;36mhist\u001b[1;34m(self, x, bins, range, normed, weights, cumulative, bottom, histtype, align, orientation, rwidth, log, color, label, stacked, **kwargs)\u001b[0m\n\u001b[0;32m   6008\u001b[0m             \u001b[1;31m# this will automatically overwrite bins,\u001b[0m\u001b[1;33m\u001b[0m\u001b[1;33m\u001b[0m\u001b[0m\n\u001b[0;32m   6009\u001b[0m             \u001b[1;31m# so that each histogram uses the same bins\u001b[0m\u001b[1;33m\u001b[0m\u001b[1;33m\u001b[0m\u001b[0m\n\u001b[1;32m-> 6010\u001b[1;33m             \u001b[0mm\u001b[0m\u001b[1;33m,\u001b[0m \u001b[0mbins\u001b[0m \u001b[1;33m=\u001b[0m \u001b[0mnp\u001b[0m\u001b[1;33m.\u001b[0m\u001b[0mhistogram\u001b[0m\u001b[1;33m(\u001b[0m\u001b[0mx\u001b[0m\u001b[1;33m[\u001b[0m\u001b[0mi\u001b[0m\u001b[1;33m]\u001b[0m\u001b[1;33m,\u001b[0m \u001b[0mbins\u001b[0m\u001b[1;33m,\u001b[0m \u001b[0mweights\u001b[0m\u001b[1;33m=\u001b[0m\u001b[0mw\u001b[0m\u001b[1;33m[\u001b[0m\u001b[0mi\u001b[0m\u001b[1;33m]\u001b[0m\u001b[1;33m,\u001b[0m \u001b[1;33m**\u001b[0m\u001b[0mhist_kwargs\u001b[0m\u001b[1;33m)\u001b[0m\u001b[1;33m\u001b[0m\u001b[0m\n\u001b[0m\u001b[0;32m   6011\u001b[0m             \u001b[0mm\u001b[0m \u001b[1;33m=\u001b[0m \u001b[0mm\u001b[0m\u001b[1;33m.\u001b[0m\u001b[0mastype\u001b[0m\u001b[1;33m(\u001b[0m\u001b[0mfloat\u001b[0m\u001b[1;33m)\u001b[0m  \u001b[1;31m# causes problems later if it's an int\u001b[0m\u001b[1;33m\u001b[0m\u001b[0m\n\u001b[0;32m   6012\u001b[0m             \u001b[1;32mif\u001b[0m \u001b[0mmlast\u001b[0m \u001b[1;32mis\u001b[0m \u001b[1;32mNone\u001b[0m\u001b[1;33m:\u001b[0m\u001b[1;33m\u001b[0m\u001b[0m\n",
      "\u001b[1;32m/usr/local/lib/python3.4/dist-packages/numpy/lib/function_base.py\u001b[0m in \u001b[0;36mhistogram\u001b[1;34m(a, bins, range, normed, weights, density)\u001b[0m\n\u001b[0;32m    500\u001b[0m     \u001b[1;32mif\u001b[0m \u001b[0mmn\u001b[0m \u001b[1;33m>\u001b[0m \u001b[0mmx\u001b[0m\u001b[1;33m:\u001b[0m\u001b[1;33m\u001b[0m\u001b[0m\n\u001b[0;32m    501\u001b[0m         raise ValueError(\n\u001b[1;32m--> 502\u001b[1;33m             'max must be larger than min in range parameter.')\n\u001b[0m\u001b[0;32m    503\u001b[0m     \u001b[1;32mif\u001b[0m \u001b[1;32mnot\u001b[0m \u001b[0mnp\u001b[0m\u001b[1;33m.\u001b[0m\u001b[0mall\u001b[0m\u001b[1;33m(\u001b[0m\u001b[0mnp\u001b[0m\u001b[1;33m.\u001b[0m\u001b[0misfinite\u001b[0m\u001b[1;33m(\u001b[0m\u001b[1;33m[\u001b[0m\u001b[0mmn\u001b[0m\u001b[1;33m,\u001b[0m \u001b[0mmx\u001b[0m\u001b[1;33m]\u001b[0m\u001b[1;33m)\u001b[0m\u001b[1;33m)\u001b[0m\u001b[1;33m:\u001b[0m\u001b[1;33m\u001b[0m\u001b[0m\n\u001b[0;32m    504\u001b[0m         raise ValueError(\n",
      "\u001b[1;31mValueError\u001b[0m: max must be larger than min in range parameter."
     ]
    },
    {
     "data": {
      "image/png": "[encoded data removed]",
      "text/plain": [
       "<matplotlib.figure.Figure at 0x7f71b176d5c0>"
      ]
     },
     "metadata": {},
     "output_type": "display_data"
    }
   ],
   "source": [
    "nbins = 1\n",
    "plt.hist(y, bins=nbins, normed=True)\n",
    "plt.show()"
   ]
  },
  {
   "cell_type": "code",
   "execution_count": null,
   "metadata": {
    "collapsed": true
   },
   "outputs": [],
   "source": []
  }
 ],
 "metadata": {
  "kernelspec": {
   "display_name": "Python 3",
   "language": "python",
   "name": "python3"
  },
  "language_info": {
   "codemirror_mode": {
    "name": "ipython",
    "version": 3
   },
   "file_extension": ".py",
   "mimetype": "text/x-python",
   "name": "python",
   "nbconvert_exporter": "python",
   "pygments_lexer": "ipython3",
   "version": "3.4.3"
  }
 },
 "nbformat": 4,
 "nbformat_minor": 0
}
